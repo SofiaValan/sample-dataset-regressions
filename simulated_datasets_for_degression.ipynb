{
  "cells": [
    {
      "cell_type": "markdown",
      "source": [
        "# Generating Simulated Datasets for Regression Problems (Linear & Non-Linear)"
      ],
      "metadata": {
        "id": "bHitBdLFhBfy"
      },
      "id": "bHitBdLFhBfy"
    },
    {
      "cell_type": "markdown",
      "source": [
        "This tutorial aims to learn how to create a sample dataset for regression problems. I will be covering linear regression and non-linear regression equations (polynomic, exponential...). I will continue updating this tutorial with new regression problems in the future."
      ],
      "metadata": {
        "id": "j3qGVvAVyQDp"
      },
      "id": "j3qGVvAVyQDp"
    },
    {
      "cell_type": "code",
      "execution_count": null,
      "id": "c6f6b523",
      "metadata": {
        "id": "c6f6b523"
      },
      "outputs": [],
      "source": [
        "# Importing libraries\n",
        "import pandas as pd\n",
        "import numpy as np\n",
        "import seaborn as sns\n",
        "from sklearn import datasets\n",
        "import matplotlib.pyplot as plt\n",
        "from sklearn.datasets import make_regression"
      ]
    },
    {
      "cell_type": "markdown",
      "id": "bdbf528e",
      "metadata": {
        "id": "bdbf528e"
      },
      "source": [
        "## Linear Regression"
      ]
    },
    {
      "cell_type": "markdown",
      "source": [
        "To build a linear regression equation, an option is to use the function make_regression from the Sklearn library. The mean parameters you can add to this function are:\n",
        "\n",
        "* n_sample: number of samples\n",
        "* n_features: number of variables\n",
        "* n_informative: number of informative variables to create the output\n",
        "* n_targets\n",
        "* noise: stardard deviation of the output\n",
        "* random_state: the seed to control the randomness of the output\n",
        "\n",
        "You can take a look to the rest of the parameters on sklearn documentation https://scikit-learn.org/stable/modules/generated/sklearn.datasets.make_regression.html"
      ],
      "metadata": {
        "id": "ZA9zNbQaZFap"
      },
      "id": "ZA9zNbQaZFap"
    },
    {
      "cell_type": "code",
      "execution_count": null,
      "id": "5afdebed",
      "metadata": {
        "id": "5afdebed"
      },
      "outputs": [],
      "source": [
        "# Calculating a sample of X and Y values\n",
        "x, y = datasets.make_regression(n_samples = 200, n_features = 1,\n",
        "                                n_informative = 1, n_targets = 1,\n",
        "                                noise = 20, random_state=12345, effective_rank=None)"
      ]
    },
    {
      "cell_type": "markdown",
      "source": [
        "If you want to determine in which range X and Y values are moving, you can use a Numpy function called np.intern() specifying the mininum and the maximum for each one:"
      ],
      "metadata": {
        "id": "1YAenYzud9iY"
      },
      "id": "1YAenYzud9iY"
    },
    {
      "cell_type": "code",
      "execution_count": null,
      "id": "a443f592",
      "metadata": {
        "id": "a443f592"
      },
      "outputs": [],
      "source": [
        "x = np.interp(x, (x.min(), x.max()), (3876, 15678))\n",
        "y = np.interp(y, (y.min(), y.max()), (1678, 5435))"
      ]
    },
    {
      "cell_type": "markdown",
      "source": [
        "Let's plot the function to see what it looks like:"
      ],
      "metadata": {
        "id": "Q0Si6cNTfsbo"
      },
      "id": "Q0Si6cNTfsbo"
    },
    {
      "cell_type": "code",
      "execution_count": null,
      "id": "37399d59",
      "metadata": {
        "colab": {
          "base_uri": "https://localhost:8080/",
          "height": 282
        },
        "id": "37399d59",
        "outputId": "22a2caf4-9930-4183-afc6-768957d1dc77"
      },
      "outputs": [
        {
          "output_type": "execute_result",
          "data": {
            "text/plain": [
              "[<matplotlib.lines.Line2D at 0x7fb1b5a5ae50>]"
            ]
          },
          "metadata": {},
          "execution_count": 20
        },
        {
          "output_type": "display_data",
          "data": {
            "text/plain": [
              "<Figure size 432x288 with 1 Axes>"
            ],
            "image/png": "[encoded data removed]"
          },
          "metadata": {
            "needs_background": "light"
          }
        }
      ],
      "source": [
        "plt.ion()\n",
        "plt.plot(x,y,'.')"
      ]
    },
    {
      "cell_type": "markdown",
      "id": "ff06ba1d",
      "metadata": {
        "id": "ff06ba1d"
      },
      "source": [
        "## Non-linear Regression"
      ]
    },
    {
      "cell_type": "markdown",
      "id": "2662b54e",
      "metadata": {
        "id": "2662b54e"
      },
      "source": [
        "### Polynomial Regression"
      ]
    },
    {
      "cell_type": "markdown",
      "id": "5d4e218e",
      "metadata": {
        "id": "5d4e218e"
      },
      "source": [
        "In the case of polynomic regression, we need to apply a more complex methodology. For this example, I will be calculating a cubic equation. So, we are looking for an equation that has the following form:\n",
        "\n",
        "y = ax^3 + bx^2 + cx + d\n",
        "\n",
        "First, let's determine the X coordinates of the maximum and the minimum values that we want to build the first derivative of our desired function.\n",
        "\n",
        "To build my function for this specific exercise, I will use max_x = 3000 and min_y = 5000.\n",
        "\n",
        "Then, it is necessary to create the factorial function based on those values. In this case, it will be the following one:\n",
        "\n",
        "f'(x) = (x - 3000)(x - 5000)\n",
        "\n",
        "After developing, we have the following equation:\n",
        "\n",
        "f'(x) = x^2 - 8000x + 1.5·10^7\n",
        "\n",
        "As I said, this is the first derivative. To get our cubic equation, it's necessary to integrate using the Scipy and Sympy libraries."
      ]
    },
    {
      "cell_type": "code",
      "execution_count": null,
      "id": "74101176",
      "metadata": {
        "id": "74101176"
      },
      "outputs": [],
      "source": [
        "# Importing the Scipy & Sympy libraries\n",
        "import scipy as sp\n",
        "from sympy import *"
      ]
    },
    {
      "cell_type": "code",
      "execution_count": null,
      "id": "5844c2eb",
      "metadata": {
        "colab": {
          "base_uri": "https://localhost:8080/",
          "height": 38
        },
        "id": "5844c2eb",
        "outputId": "83872021-da29-4647-81ae-4d466387ecba"
      },
      "outputs": [
        {
          "output_type": "execute_result",
          "data": {
            "text/plain": [
              "                   3           2               \n",
              "0.333333333333333*x  - 4000.0*x  + 15000000.0*x"
            ],
            "image/png": "[encoded data removed]",
            "text/latex": "$\\displaystyle 0.333333333333333 x^{3} - 4000.0 x^{2} + 15000000.0 x$"
          },
          "metadata": {},
          "execution_count": 7
        }
      ],
      "source": [
        "# Creating the X symbol that will be our unknown factor\n",
        "init_printing(use_unicode=False, wrap_line=False)\n",
        "x = Symbol('x')\n",
        "\n",
        "# Integrating the first derivative to get the cubic equation\n",
        "integrate(x**2 - 8000*x + 1.5*(10**7), x)"
      ]
    },
    {
      "cell_type": "markdown",
      "id": "99a55d09",
      "metadata": {
        "id": "99a55d09"
      },
      "source": [
        "This is the result of the integral that will be the base to build our cubic equation. All equations have different types of transformations. \n",
        "\n",
        "* The first one is changing the D value. This will move the function up and down over the coordinate axis.\n",
        "* The second one is to multiply or divide the whole function to stretch or flatten it.\n",
        "\n",
        "Let's plot the resultant equation to see what it looks like:\n"
      ]
    },
    {
      "cell_type": "code",
      "execution_count": null,
      "id": "e0cc2c8b",
      "metadata": {
        "colab": {
          "base_uri": "https://localhost:8080/",
          "height": 276
        },
        "id": "e0cc2c8b",
        "outputId": "c913b4b8-02d9-470b-cbdf-5faf0454e4e6"
      },
      "outputs": [
        {
          "output_type": "display_data",
          "data": {
            "text/plain": [
              "<Figure size 432x288 with 1 Axes>"
            ],
            "image/png": "[encoded data removed]"
          },
          "metadata": {
            "needs_background": "light"
          }
        }
      ],
      "source": [
        "# Creating a function to plot the cubic equation\n",
        "def plot_me(a, b, c, d):\n",
        "    x = np.arange(0, 7000, 0.05)\n",
        "    y = [(a*i**3 + b*i**2 + c*i + d) for i in x]\n",
        "    plt.plot(x, y, label='cubic', linestyle='-')\n",
        "    plt.grid(True)\n",
        "    plt.show(block=False)\n",
        "    plt.pause(10)\n",
        "    plt.close()\n",
        "\n",
        "#General equation for a cubic function is y= ax3 + bx2 + cx + d\n",
        "plot_me(1/3, -4000, 15000000, 0)"
      ]
    },
    {
      "cell_type": "markdown",
      "source": [
        "Let's do some transformations over the equation, so the range for the Y value is between 0 and 5000. To do so, I will divide the whole equation by 1500000. Also, I will move it 3000 units up (this means d = 3000)."
      ],
      "metadata": {
        "id": "dqDMybVSI30N"
      },
      "id": "dqDMybVSI30N"
    },
    {
      "cell_type": "code",
      "source": [
        "#General equation for a cubic function is y= ax3 + bx2 + cx + d\n",
        "plot_me(0.3333333/15000000, -4000/15000000, 15000000/15000000, 3000)"
      ],
      "metadata": {
        "colab": {
          "base_uri": "https://localhost:8080/",
          "height": 265
        },
        "id": "hozU8dSgMkTL",
        "outputId": "0d821cb6-4fd5-476d-91c5-2ae4a527dae6"
      },
      "id": "hozU8dSgMkTL",
      "execution_count": null,
      "outputs": [
        {
          "output_type": "display_data",
          "data": {
            "text/plain": [
              "<Figure size 432x288 with 1 Axes>"
            ],
            "image/png": "[encoded data removed]"
          },
          "metadata": {
            "needs_background": "light"
          }
        }
      ]
    }
  ],
  "metadata": {
    "kernelspec": {
      "display_name": "Python 3.9.5 ('base')",
      "language": "python",
      "name": "python3"
    },
    "language_info": {
      "codemirror_mode": {
        "name": "ipython",
        "version": 3
      },
      "file_extension": ".py",
      "mimetype": "text/x-python",
      "name": "python",
      "nbconvert_exporter": "python",
      "pygments_lexer": "ipython3",
      "version": "3.9.5"
    },
    "vscode": {
      "interpreter": {
        "hash": "6ace5384e8512bec205467adaaa03d1a59280dc6777c0f016ce91eb37065280f"
      }
    },
    "colab": {
      "provenance": [],
      "collapsed_sections": []
    }
  },
  "nbformat": 4,
  "nbformat_minor": 5
}